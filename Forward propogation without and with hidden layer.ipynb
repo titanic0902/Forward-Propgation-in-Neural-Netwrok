{
 "cells": [
  {
   "cell_type": "code",
   "execution_count": 10,
   "id": "a16aa7f8",
   "metadata": {},
   "outputs": [],
   "source": [
    "import numpy as np"
   ]
  },
  {
   "cell_type": "code",
   "execution_count": 11,
   "id": "7714dee9",
   "metadata": {},
   "outputs": [
    {
     "data": {
      "text/plain": [
       "((4, 2), (4, 1))"
      ]
     },
     "execution_count": 11,
     "metadata": {},
     "output_type": "execute_result"
    }
   ],
   "source": [
    "X = np.array([[0,0],[0,1],[1,0],[1,1]])\n",
    "Y = np.array([[0,0,0,1]]).T\n",
    "X.shape , Y.shape"
   ]
  },
  {
   "cell_type": "code",
   "execution_count": 12,
   "id": "4c5899d3",
   "metadata": {},
   "outputs": [],
   "source": [
    "def sig(z):\n",
    "    return 1/(1+ np.exp(-z))"
   ]
  },
  {
   "cell_type": "code",
   "execution_count": 13,
   "id": "8cf28b37",
   "metadata": {},
   "outputs": [
    {
     "data": {
      "text/plain": [
       "(array([[ 0.94172909],\n",
       "        [-0.68085665]]),\n",
       " array([-0.34955733]))"
      ]
     },
     "execution_count": 13,
     "metadata": {},
     "output_type": "execute_result"
    }
   ],
   "source": [
    "weights = 2*np.random.random((2,1))-1\n",
    "bias = 2*np.random.random(1)-1\n",
    "weights,bias"
   ]
  },
  {
   "cell_type": "code",
   "execution_count": 14,
   "id": "a3fee8ff",
   "metadata": {},
   "outputs": [
    {
     "data": {
      "text/plain": [
       "array([[0.41348977],\n",
       "       [0.26300385],\n",
       "       [0.64386329],\n",
       "       [0.4778433 ]])"
      ]
     },
     "execution_count": 14,
     "metadata": {},
     "output_type": "execute_result"
    }
   ],
   "source": [
    "# No hidden layers\n",
    "output0 = X\n",
    "output = sig(np.dot(output0,weights)+ bias)\n",
    "output"
   ]
  },
  {
   "cell_type": "code",
   "execution_count": 15,
   "id": "d3d498bd",
   "metadata": {},
   "outputs": [],
   "source": [
    "#Hidden Layers\n",
    "wh = 2*np.random.random((2,2))-1\n",
    "bh = 2*np.random.random((2,2))-1\n",
    "wo = 2*np.random.random((2,2))-1\n",
    "bo = 2*np.random.random((2,2))-1"
   ]
  },
  {
   "cell_type": "code",
   "execution_count": null,
   "id": "23b6a160",
   "metadata": {},
   "outputs": [],
   "source": [
    "output0 = X\n",
    "outputHidden =sig(np.dot(output0,wh)+bh)\n",
    "output = sig(np.dot(outputHidden,wo)+ bo)\n",
    "output"
   ]
  },
  {
   "cell_type": "code",
   "execution_count": null,
   "id": "1fc851f3",
   "metadata": {},
   "outputs": [],
   "source": []
  },
  {
   "cell_type": "code",
   "execution_count": null,
   "id": "380e6d8f",
   "metadata": {},
   "outputs": [],
   "source": []
  },
  {
   "cell_type": "code",
   "execution_count": null,
   "id": "7c0fadb5",
   "metadata": {},
   "outputs": [],
   "source": []
  }
 ],
 "metadata": {
  "kernelspec": {
   "display_name": "Python 3 (ipykernel)",
   "language": "python",
   "name": "python3"
  },
  "language_info": {
   "codemirror_mode": {
    "name": "ipython",
    "version": 3
   },
   "file_extension": ".py",
   "mimetype": "text/x-python",
   "name": "python",
   "nbconvert_exporter": "python",
   "pygments_lexer": "ipython3",
   "version": "3.10.9"
  }
 },
 "nbformat": 4,
 "nbformat_minor": 5
}
